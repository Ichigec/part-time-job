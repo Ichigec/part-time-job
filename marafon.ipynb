{
 "cells": [
  {
   "cell_type": "code",
   "execution_count": 13,
   "metadata": {},
   "outputs": [],
   "source": [
    "import numpy as np\n",
    "import random\n",
    "import matplotlib.pyplot as plt"
   ]
  },
  {
   "cell_type": "code",
   "execution_count": 337,
   "metadata": {},
   "outputs": [],
   "source": [
    "def season(n):\n",
    "    vinni=(np.random.exponential(scale=1.0, size=(10000*n))).reshape([10000, 1, n])\n",
    "    piatochok=np.random.normal(1, 1, size=(10000*n)).reshape([10000, 1, n])\n",
    "    krolick=np.random.poisson(lam=1, size=(10000*n)).reshape([10000, 1, n])\n",
    "    YaYa=(np.random.binomial(size=(10000*n), n=1, p= 0.5)*2).reshape([10000, 1, n])\n",
    "    vsh=vinni.shape\n",
    "    psh=piatochok.shape\n",
    "    ksh=krolick.shape\n",
    "    ysh=YaYa.shape\n",
    "    test=np.zeros([10000, 4, n])\n",
    "    test[: ,:1, :]=vinni\n",
    "    test[: ,1:, :]=piatochok\n",
    "    test[: ,2:, :]=krolick\n",
    "    test[: ,3:, :]=YaYa\n",
    "    marafon=np.sum(test, axis=2)\n",
    "    winner=(np.apply_along_axis(np.argmax, axis=1, arr=marafon))\n",
    "\n",
    "    winnerdata=winner.astype(np.str)\n",
    "    def score(data, number):\n",
    "        a=(np.char.count(data, number))\n",
    "        a=a[a>0].sum()\n",
    "        return a\n",
    "    wincount={'Vinni':score(winnerdata, '0'), 'Piatochok':score(winnerdata, '1')\n",
    "       , 'Krolick':score(winnerdata, '2'), \"YaYa\":score(winnerdata, '3')}\n",
    "    winnerdata[winnerdata=='0']='VinniWin'\n",
    "    winnerdata[winnerdata=='1']='PiatochokWin'\n",
    "    winnerdata[winnerdata=='2']='KrolickWin'\n",
    "    winnerdata[winnerdata=='3']='YaYaWin'\n",
    "    return ([(sorted(wincount, key=wincount.get, reverse=True)[0])+' - NumberOne', wincount, winnerdata, winner], \n",
    "plt.bar(wincount.keys(), wincount.values()))"
   ]
  },
  {
   "cell_type": "code",
   "execution_count": 338,
   "metadata": {},
   "outputs": [
    {
     "data": {
      "text/plain": [
       "(['Krolick - NumberOne',\n",
       "  {'Vinni': 2365, 'Piatochok': 2578, 'Krolick': 2648, 'YaYa': 2409},\n",
       "  array(['PiatochokWin', 'YaYaWin', 'PiatochokWin', ..., 'KrolickWin',\n",
       "         'KrolickWin', 'VinniWin'], dtype='<U21'),\n",
       "  array([1, 3, 1, ..., 2, 2, 0], dtype=int64)],\n",
       " <BarContainer object of 4 artists>)"
      ]
     },
     "execution_count": 338,
     "metadata": {},
     "output_type": "execute_result"
    },
    {
     "data": {
      "image/png": "[encoded data removed]",
      "text/plain": [
       "<Figure size 432x288 with 1 Axes>"
      ]
     },
     "metadata": {
      "needs_background": "light"
     },
     "output_type": "display_data"
    }
   ],
   "source": [
    "season(5)"
   ]
  },
  {
   "cell_type": "code",
   "execution_count": 339,
   "metadata": {},
   "outputs": [],
   "source": [
    "def command_season(n):\n",
    "    vinni=(np.random.exponential(scale=1.0, size=(10000*n))).reshape([10000, 1, n])\n",
    "    piatochok=np.random.normal(1, 1, size=(10000*n)).reshape([10000, 1, n])\n",
    "    krolick=np.random.poisson(lam=1, size=(10000*n)).reshape([10000, 1, n])\n",
    "    YaYa=(np.random.binomial(size=(10000*n), n=1, p= 0.5)*2).reshape([10000, 1, n])\n",
    "    vp=vinni+piatochok\n",
    "    kYa=krolick+YaYa\n",
    "    vpsh=vp.shape\n",
    "    kYash=kYa.shape\n",
    "    test=np.zeros([10000, 2, n])\n",
    "    test[: ,:1, :]=vp\n",
    "    test[: ,1:, :]=kYa\n",
    "    \n",
    "    marafon=np.sum(test, axis=2)\n",
    "    winner=(np.apply_along_axis(np.argmax, axis=1, arr=marafon))\n",
    "\n",
    "    winnerdata=winner.astype(np.str)\n",
    "    def score(data, number):\n",
    "        a=(np.char.count(data, number))\n",
    "        a=a[a>0].sum()\n",
    "        return a\n",
    "    wincount={'Piatinni':score(winnerdata, '0'), 'kYa':score(winnerdata, '1')}\n",
    "    winnerdata[winnerdata=='0']='Piatinni'\n",
    "    winnerdata[winnerdata=='1']='kYa'\n",
    "    return ([(sorted(wincount, key=wincount.get, reverse=True)[0])+' - NumberOne', wincount, winnerdata, winner], \n",
    "plt.bar(wincount.keys(), wincount.values()))"
   ]
  },
  {
   "cell_type": "code",
   "execution_count": 340,
   "metadata": {},
   "outputs": [
    {
     "data": {
      "text/plain": [
       "(['kYa - NumberOne',\n",
       "  {'Piatinni': 4961, 'kYa': 5039},\n",
       "  array(['Piatinni', 'kYa', 'Piatinni', ..., 'kYa', 'kYa', 'kYa'],\n",
       "        dtype='<U21'),\n",
       "  array([0, 1, 0, ..., 1, 1, 1], dtype=int64)],\n",
       " <BarContainer object of 2 artists>)"
      ]
     },
     "execution_count": 340,
     "metadata": {},
     "output_type": "execute_result"
    },
    {
     "data": {
      "image/png": "[encoded data removed]",
      "text/plain": [
       "<Figure size 432x288 with 1 Axes>"
      ]
     },
     "metadata": {
      "needs_background": "light"
     },
     "output_type": "display_data"
    }
   ],
   "source": [
    "command_season(5)"
   ]
  },
  {
   "cell_type": "code",
   "execution_count": null,
   "metadata": {},
   "outputs": [],
   "source": []
  }
 ],
 "metadata": {
  "kernelspec": {
   "display_name": "Python 3",
   "language": "python",
   "name": "python3"
  },
  "language_info": {
   "codemirror_mode": {
    "name": "ipython",
    "version": 3
   },
   "file_extension": ".py",
   "mimetype": "text/x-python",
   "name": "python",
   "nbconvert_exporter": "python",
   "pygments_lexer": "ipython3",
   "version": "3.7.6"
  }
 },
 "nbformat": 4,
 "nbformat_minor": 4
}
